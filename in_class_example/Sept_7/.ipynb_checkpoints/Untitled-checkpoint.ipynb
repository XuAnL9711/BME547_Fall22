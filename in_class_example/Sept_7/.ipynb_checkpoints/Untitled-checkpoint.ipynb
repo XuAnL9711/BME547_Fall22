{
 "cells": [
  {
   "cell_type": "code",
   "execution_count": 5,
   "id": "a816b9d6",
   "metadata": {},
   "outputs": [
    {
     "name": "stdout",
     "output_type": "stream",
     "text": [
      "5\n"
     ]
    }
   ],
   "source": [
    "x = 5\n",
    "a = x + 3\n",
    "print(x)"
   ]
  },
  {
   "cell_type": "markdown",
   "id": "3c83ec66",
   "metadata": {},
   "source": [
    "# Markdown\n",
    "this is markdown code.\n",
    "__Bold__"
   ]
  },
  {
   "cell_type": "code",
   "execution_count": null,
   "id": "17aee5fe",
   "metadata": {},
   "outputs": [],
   "source": []
  }
 ],
 "metadata": {
  "kernelspec": {
   "display_name": "Python 3 (ipykernel)",
   "language": "python",
   "name": "python3"
  },
  "language_info": {
   "codemirror_mode": {
    "name": "ipython",
    "version": 3
   },
   "file_extension": ".py",
   "mimetype": "text/x-python",
   "name": "python",
   "nbconvert_exporter": "python",
   "pygments_lexer": "ipython3",
   "version": "3.10.6"
  }
 },
 "nbformat": 4,
 "nbformat_minor": 5
}
